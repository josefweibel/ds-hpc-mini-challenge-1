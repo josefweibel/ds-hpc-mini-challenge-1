{
 "cells": [
  {
   "cell_type": "code",
   "execution_count": 1,
   "metadata": {},
   "outputs": [],
   "source": [
    "import matplotlib.pyplot as plt\n",
    "import seaborn as sns\n",
    "import pandas as pd\n",
    "import threading\n",
    "import multiprocessing\n",
    "import time\n",
    "from IPython.display import clear_output\n",
    "from message_service import MessageProcessor\n",
    "from movies_pb2 import ConsumedMessage, PublishedMessage\n",
    "\n",
    "import setup"
   ]
  },
  {
   "cell_type": "code",
   "execution_count": 5,
   "metadata": {},
   "outputs": [
    {
     "name": "stdout",
     "output_type": "stream",
     "text": [
      "no new data\n"
     ]
    },
    {
     "ename": "KeyboardInterrupt",
     "evalue": "",
     "output_type": "error",
     "traceback": [
      "\u001b[0;31m---------------------------------------------------------------------------\u001b[0m",
      "\u001b[0;31mKeyboardInterrupt\u001b[0m                         Traceback (most recent call last)",
      "Cell \u001b[0;32mIn [5], line 37\u001b[0m\n\u001b[1;32m     35\u001b[0m \u001b[39mwhile\u001b[39;00m \u001b[39mTrue\u001b[39;00m:\n\u001b[1;32m     36\u001b[0m \t\u001b[39mtry\u001b[39;00m:\n\u001b[0;32m---> 37\u001b[0m \t\ttime\u001b[39m.\u001b[39msleep(\u001b[39m10\u001b[39m)\n\u001b[1;32m     39\u001b[0m \t\tlock\u001b[39m.\u001b[39macquire()\n\u001b[1;32m     40\u001b[0m \t\tnew_data \u001b[39m=\u001b[39m processor\u001b[39m.\u001b[39mnew_data\u001b[39m.\u001b[39mcopy()\n",
      "\u001b[0;31mKeyboardInterrupt\u001b[0m: "
     ]
    }
   ],
   "source": [
    "class PerformanceMessageProcessor(MessageProcessor):\n",
    "\tdef __init__(self, topics, lock):\n",
    "\t\tsuper().__init__(\n",
    "\t\t\t'performance_message_processor', \n",
    "\t\t\tlambda t: PublishedMessage() if t == 'published-messages' else ConsumedMessage(), \n",
    "\t\t\ttopics,\n",
    "\t\t\tpublish_metrics=False\n",
    "\t\t)\n",
    "\t\tself.new_data = []\n",
    "\t\tself.lock = lock # mutex for self.new_data\n",
    "\n",
    "\tdef on_message(self, message, topic, kafka_message):\n",
    "\t\ttype = 'published' if topic == 'published-messages' else 'consumed'\n",
    "\t\tclient = message.publisher if topic == 'published-messages' else message.consumer\n",
    "\n",
    "\t\tdata = pd.Series({\n",
    "\t\t\t'type': type, \n",
    "\t\t\t'client': client, \n",
    "\t\t\t'timestamp': pd.to_datetime(message.timestamp, unit='s', utc=True), \n",
    "\t\t\t'hostname': message.hostname\n",
    "\t\t})\n",
    "\n",
    "\t\tself.lock.acquire()\n",
    "\t\tself.new_data.append(data)\n",
    "\t\tself.lock.release()\n",
    "\n",
    "lock = multiprocessing.Lock()\n",
    "# processor = PerformanceMessageProcessor(['published-messages', 'consumed-messages'], lock)\n",
    "processor = PerformanceMessageProcessor(['consumed-messages'], lock)\n",
    "messaging_thread = threading.Thread(target=processor.run)\n",
    "messaging_thread.start()\n",
    "\n",
    "freq = '30s'\n",
    "data = None\n",
    "\n",
    "main_thread = threading.main_thread()\n",
    "while main_thread.is_alive():\n",
    "\ttime.sleep(10)\n",
    "\n",
    "\tlock.acquire()\n",
    "\tnew_data = processor.new_data.copy()\n",
    "\tprocessor.new_data = []\n",
    "\tlock.release()\n",
    "\n",
    "\tif len(new_data) == 0:\n",
    "\t\tprint('no new data')\n",
    "\t\tcontinue\n",
    "\n",
    "\tclear_output(wait=True)\n",
    "\tplt.figure(figsize = (10, 5))\n",
    "\n",
    "\tnew_data = pd.DataFrame(new_data)\n",
    "\tnew_data = new_data.set_index('timestamp')\n",
    "\tnew_data = new_data.groupby([pd.Grouper(freq=freq), 'type']).size()\n",
    "\tnew_data = new_data.rename('n')\n",
    "\tnew_data = new_data.reset_index()\n",
    "\n",
    "\tnew_data = new_data if data is None else pd.concat([data, new_data])\n",
    "\tnew_data = new_data.set_index('timestamp').groupby([pd.Grouper(freq=freq), 'type'])['n'].sum().reset_index().set_index('timestamp')\n",
    "\n",
    "\tdata_list = []\n",
    "\tfor type in new_data['type'].unique():\n",
    "\t\tper_type = new_data[new_data['type'] == type].asfreq(freq)\n",
    "\t\tper_type['type'] = type\n",
    "\t\tdata_list.append(per_type)\n",
    "\n",
    "\tdata = pd.concat(data_list).fillna(0).reset_index()\n",
    "\n",
    "\tsns.lineplot(data=data, x='timestamp', y='n', hue='type')\n",
    "\tplt.title('Verarbeitete Messages')\n",
    "\tplt.xlabel('Zeit')\n",
    "\tplt.ylabel('Anzahl')\n",
    "\tplt.show()\n",
    "\n",
    "\tprint(data)\n",
    "\n",
    "\n",
    "print('stopping messaging thread')\n",
    "messaging_thread.stop()\n",
    "messaging_thread.join()\n"
   ]
  },
  {
   "cell_type": "code",
   "execution_count": null,
   "metadata": {},
   "outputs": [],
   "source": []
  }
 ],
 "metadata": {
  "kernelspec": {
   "display_name": "Python 3 (ipykernel)",
   "language": "python",
   "name": "python3"
  },
  "orig_nbformat": 4,
  "vscode": {
   "interpreter": {
    "hash": "aee8b7b246df8f9039afb4144a1f6fd8d2ca17a180786b69acc140d282b71a49"
   }
  }
 },
 "nbformat": 4,
 "nbformat_minor": 2
}
